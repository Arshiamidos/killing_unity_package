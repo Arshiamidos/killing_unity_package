{
   "cell_type": "code",
   "execution_count": 2,
   "metadata": {},
   "outputs": [],
   "source": [
    "#!tail -n 20 /home/arsh/core.out"
   ]
  },